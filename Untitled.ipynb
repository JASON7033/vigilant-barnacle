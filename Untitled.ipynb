{
 "cells": [
  {
   "cell_type": "markdown",
   "metadata": {},
   "source": [
    "# process of PANDA dataset\n"
   ]
  },
  {
   "cell_type": "code",
   "execution_count": 1,
   "metadata": {},
   "outputs": [],
   "source": [
    "import json\n",
    "from PIL import Image\n"
   ]
  },
  {
   "cell_type": "code",
   "execution_count": 2,
   "metadata": {},
   "outputs": [
    {
     "name": "stdout",
     "output_type": "stream",
     "text": [
      "<class 'dict'>\n",
      "categories\n",
      "images\n",
      "annotations\n",
      "type\n"
     ]
    }
   ],
   "source": [
    "anno_src_file_panda_coco=\"anno.json\"\n",
    "src_annos=json.load(open(anno_src_file_panda_coco))\n",
    "print(type(src_annos))\n",
    "for item in src_annos:\n",
    "    print(item)"
   ]
  },
  {
   "cell_type": "code",
   "execution_count": 3,
   "metadata": {},
   "outputs": [
    {
     "data": {
      "text/plain": [
       "{'file_name': '01_University_Canteen/IMG_01_01.jpg',\n",
       " 'height': 15052,\n",
       " 'width': 26753,\n",
       " 'id': 1}"
      ]
     },
     "execution_count": 3,
     "metadata": {},
     "output_type": "execute_result"
    }
   ],
   "source": [
    "src_annos['images'][0]"
   ]
  },
  {
   "cell_type": "code",
   "execution_count": 4,
   "metadata": {},
   "outputs": [
    {
     "data": {
      "text/plain": [
       "[{'supercategory': 'none', 'id': 1, 'name': 'person'},\n",
       " {'supercategory': 'none', 'id': 2, 'name': 'vehicle'}]"
      ]
     },
     "execution_count": 4,
     "metadata": {},
     "output_type": "execute_result"
    }
   ],
   "source": [
    "src_annos['categories']"
   ]
  },
  {
   "cell_type": "code",
   "execution_count": 5,
   "metadata": {},
   "outputs": [
    {
     "data": {
      "text/plain": [
       "list"
      ]
     },
     "execution_count": 5,
     "metadata": {},
     "output_type": "execute_result"
    }
   ],
   "source": [
    "type(src_annos['annotations'])"
   ]
  },
  {
   "cell_type": "code",
   "execution_count": 6,
   "metadata": {},
   "outputs": [
    {
     "data": {
      "text/plain": [
       "'instances'"
      ]
     },
     "execution_count": 6,
     "metadata": {},
     "output_type": "execute_result"
    }
   ],
   "source": [
    "src_annos['type']"
   ]
  },
  {
   "cell_type": "code",
   "execution_count": 7,
   "metadata": {},
   "outputs": [
    {
     "name": "stdout",
     "output_type": "stream",
     "text": [
      "False\n"
     ]
    }
   ],
   "source": [
    "print('bbox' in src_annos)"
   ]
  },
  {
   "cell_type": "code",
   "execution_count": 8,
   "metadata": {},
   "outputs": [
    {
     "data": {
      "text/plain": [
       "dict"
      ]
     },
     "execution_count": 8,
     "metadata": {},
     "output_type": "execute_result"
    }
   ],
   "source": [
    "type(src_annos)"
   ]
  },
  {
   "cell_type": "code",
   "execution_count": 9,
   "metadata": {},
   "outputs": [],
   "source": [
    "tiny_train_annos={}\n"
   ]
  },
  {
   "cell_type": "code",
   "execution_count": 10,
   "metadata": {},
   "outputs": [],
   "source": [
    "tiny_train_annos.update({'type':src_annos['type']})"
   ]
  },
  {
   "cell_type": "code",
   "execution_count": 11,
   "metadata": {},
   "outputs": [
    {
     "ename": "KeyError",
     "evalue": "'annotations'",
     "output_type": "error",
     "traceback": [
      "\u001b[0;31m---------------------------------------------------------------------------\u001b[0m",
      "\u001b[0;31mKeyError\u001b[0m                                  Traceback (most recent call last)",
      "\u001b[0;32m<ipython-input-11-d1b18ddf72be>\u001b[0m in \u001b[0;36m<module>\u001b[0;34m\u001b[0m\n\u001b[1;32m      1\u001b[0m \u001b[0mtiny_train_annos\u001b[0m\u001b[0;34m\u001b[0m\u001b[0;34m\u001b[0m\u001b[0m\n\u001b[0;32m----> 2\u001b[0;31m \u001b[0mprint\u001b[0m\u001b[0;34m(\u001b[0m\u001b[0mtiny_train_annos\u001b[0m\u001b[0;34m[\u001b[0m\u001b[0;34m'annotations'\u001b[0m\u001b[0;34m]\u001b[0m\u001b[0;34m[\u001b[0m\u001b[0;36m0\u001b[0m\u001b[0;34m]\u001b[0m\u001b[0;34m[\u001b[0m\u001b[0;34m'id'\u001b[0m\u001b[0;34m]\u001b[0m\u001b[0;34m)\u001b[0m\u001b[0;34m\u001b[0m\u001b[0;34m\u001b[0m\u001b[0m\n\u001b[0m\u001b[1;32m      3\u001b[0m \u001b[0mprint\u001b[0m\u001b[0;34m(\u001b[0m\u001b[0mtiny_train_annos\u001b[0m\u001b[0;34m[\u001b[0m\u001b[0;34m'annotations'\u001b[0m\u001b[0;34m]\u001b[0m\u001b[0;34m[\u001b[0m\u001b[0;36m1\u001b[0m\u001b[0;34m]\u001b[0m\u001b[0;34m[\u001b[0m\u001b[0;34m'id'\u001b[0m\u001b[0;34m]\u001b[0m\u001b[0;34m)\u001b[0m\u001b[0;34m\u001b[0m\u001b[0;34m\u001b[0m\u001b[0m\n\u001b[1;32m      4\u001b[0m \u001b[0mprint\u001b[0m\u001b[0;34m(\u001b[0m\u001b[0mtiny_train_annos\u001b[0m\u001b[0;34m[\u001b[0m\u001b[0;34m'annotations'\u001b[0m\u001b[0;34m]\u001b[0m\u001b[0;34m[\u001b[0m\u001b[0;36m2\u001b[0m\u001b[0;34m]\u001b[0m\u001b[0;34m[\u001b[0m\u001b[0;34m'id'\u001b[0m\u001b[0;34m]\u001b[0m\u001b[0;34m)\u001b[0m\u001b[0;34m\u001b[0m\u001b[0;34m\u001b[0m\u001b[0m\n",
      "\u001b[0;31mKeyError\u001b[0m: 'annotations'"
     ]
    }
   ],
   "source": [
    "tiny_train_annos\n",
    "print(tiny_train_annos['annotations'][0]['id'])\n",
    "print(tiny_train_annos['annotations'][1]['id'])\n",
    "print(tiny_train_annos['annotations'][2]['id'])"
   ]
  },
  {
   "cell_type": "code",
   "execution_count": null,
   "metadata": {},
   "outputs": [],
   "source": [
    "tiny_train_annos['old images']=src_annos['images']"
   ]
  },
  {
   "cell_type": "code",
   "execution_count": null,
   "metadata": {},
   "outputs": [],
   "source": [
    "tiny_train_annos['old images'][0]"
   ]
  },
  {
   "cell_type": "code",
   "execution_count": null,
   "metadata": {},
   "outputs": [],
   "source": [
    "tiny_train_annos['categories']=src_annos['categories'][0]"
   ]
  },
  {
   "cell_type": "code",
   "execution_count": null,
   "metadata": {},
   "outputs": [],
   "source": [
    "tiny_train_annos['categories']"
   ]
  },
  {
   "cell_type": "code",
   "execution_count": null,
   "metadata": {},
   "outputs": [],
   "source": [
    "#process annotations part !!!  corner\n",
    "erase_vehicle_annos={}\n",
    "tmp_list=list()\n",
    "# print(src_annos['annotations'][0])\n",
    "for item in src_annos['annotations']:\n",
    "    if item['category_id']==3 or item['category_id']==1:\n",
    "        item['category_id']=1\n",
    "#         print(item)\n",
    "        tmp_list.append(item)\n",
    "\n",
    "# tmp_list\n",
    "#         print('1')\n",
    "erase_vehicle_annos['annotations']=tmp_list\n",
    "# erase_vehicle_annos"
   ]
  },
  {
   "cell_type": "code",
   "execution_count": null,
   "metadata": {},
   "outputs": [],
   "source": [
    "tiny_train_annos.update(erase_vehicle_annos)"
   ]
  },
  {
   "cell_type": "code",
   "execution_count": null,
   "metadata": {},
   "outputs": [],
   "source": [
    "tiny_train_annos['annotations'][500] #查看annotation中的image_id是否出现异常"
   ]
  },
  {
   "cell_type": "code",
   "execution_count": null,
   "metadata": {},
   "outputs": [],
   "source": [
    "tiny_train_annos.keys()"
   ]
  },
  {
   "cell_type": "code",
   "execution_count": null,
   "metadata": {},
   "outputs": [],
   "source": [
    "train_image_names=[]\n",
    "for i in range(0,len(tiny_train_annos['old images'])):\n",
    "    train_image_names.append(tiny_train_annos['old images'][i]['file_name'])\n",
    "# for i in train_image_names:\n",
    "# #     print(i)\n",
    "for i in range(0,len(tiny_train_annos['old images'])):\n",
    "    h=(int)(tiny_train_annos['old images'][i]['height']/10)\n",
    "    w=(int)(tiny_train_annos['old images'][i]['width']/10)\n",
    "    tiny_train_annos['old images'][i]['height']=h\n",
    "    tiny_train_annos['old images'][i]['width']=w\n",
    "#     print(w,h)\n",
    "#     print(\"width : {0} , height : {1}\".format(tiny_train_annos['old images'][i]['width'],tiny_train_annos['old images'][i]['height']))\n",
    "    "
   ]
  },
  {
   "cell_type": "code",
   "execution_count": null,
   "metadata": {},
   "outputs": [],
   "source": [
    "tiny_train_annos['old images'][0]"
   ]
  },
  {
   "cell_type": "code",
   "execution_count": null,
   "metadata": {},
   "outputs": [],
   "source": [
    " tiny_train_annos.keys()"
   ]
  },
  {
   "cell_type": "code",
   "execution_count": null,
   "metadata": {},
   "outputs": [],
   "source": [
    "corner_width=640\n",
    "corner_height=512\n",
    "corner_image_id=0\n",
    "img_ids={}\n",
    "for x in tiny_train_annos['old images']:\n",
    "    img_ids[x['file_name']]=x['id']\n",
    "img_names=img_ids.keys()\n",
    "\n",
    "# print(tiny_train_annos['annotations'][1])\n",
    "def find_id2annos(id):\n",
    "    res=[]\n",
    "    annos=tiny_train_annos['annotations']\n",
    "    for item in annos:\n",
    "        if item['image_id']==id:\n",
    "            res.append(item)\n",
    "    return res\n",
    "def find_name2size(img_name):\n",
    "    res=[]\n",
    "    infos=tiny_train_annos['old images']\n",
    "    for item in infos:\n",
    "        if item['file_name']==img_name:\n",
    "            return [item['width'],item['height']]\n"
   ]
  },
  {
   "cell_type": "code",
   "execution_count": null,
   "metadata": {},
   "outputs": [],
   "source": [
    "#将原图像进行分割得到分割后的images中的内部标记   \n",
    "images=[]\n",
    "new_gt_id=0\n",
    "for img_name in img_names:\n",
    "    #获取之前图片对应的大小\n",
    "    width,height=find_name2size(img_name)\n",
    "#     print(type(width))\n",
    "    #查看需要对一张图切割的份数\n",
    "    k_x=(int)(width/corner_width)\n",
    "    k_y=(int)(height/corner_height)\n",
    "    if k_x*width!=width:\n",
    "        k_x=k_x+1\n",
    "    if k_x*height!=height:\n",
    "        k_y=k_y+1\n",
    "    \n",
    "    #对old images中的width 和 heigth进行切割修改\n",
    "#     print(img_name,width,height)\n",
    "    corners=[]\n",
    "    for x in range(0,k_x):\n",
    "        for y in range(0,k_y):\n",
    "            corner=[]\n",
    "            tl_x=x*corner_width\n",
    "            tl_y=y*corner_height\n",
    "            if tl_x+corner_width>=width:\n",
    "                tl_x=width-corner_width\n",
    "            if tl_y+corner_height>=height:\n",
    "                tl_y=height-corner_height\n",
    "            br_x=tl_x+corner_width\n",
    "            br_y=tl_y+corner_height\n",
    "            corner.append(tl_x)\n",
    "            corner.append(tl_y)\n",
    "            corner.append(br_x)\n",
    "            corner.append(br_y)\n",
    "#             print(corner)\n",
    "#             print(tl_x,tl_y,br_x,br_y)\n",
    "            corners.append(corner)\n",
    "    corner_image={}\n",
    "    #生成由一张图片切割生成的多组分割数据\n",
    "\n",
    "    for item in corners:\n",
    "        corner_image={}\n",
    "        corner_image['file_name']=img_name\n",
    "        corner_image['width']=corner_width\n",
    "        corner_image['height']=corner_height\n",
    "        corner_image['id']=new_gt_id\n",
    "        new_gt_id=new_gt_id+1\n",
    "#         print(corner_image['id'])\n",
    "#         print(corner_image_id)\n",
    "        corner_image['corner']=item\n",
    "        images.append(corner_image)\n",
    "#test for images' id\n",
    "# for i in images:\n",
    "#     print(i)\n",
    "# print(images)\n",
    "print(\"success split images into corner \")"
   ]
  },
  {
   "cell_type": "code",
   "execution_count": null,
   "metadata": {},
   "outputs": [],
   "source": [
    "# tiny_train_annos['images']=corner_image\n",
    "# print(tiny_train_annos['old images'])\n",
    "# print(images)\n",
    "tiny_train_annos['images']=images"
   ]
  },
  {
   "cell_type": "code",
   "execution_count": null,
   "metadata": {},
   "outputs": [],
   "source": [
    "# 处理后images的结果`\n",
    "# tiny_train_annos['images']"
   ]
  },
  {
   "cell_type": "code",
   "execution_count": null,
   "metadata": {},
   "outputs": [],
   "source": [
    "#处理后的old images的结果\n",
    "# print(tiny_train_annos['old images'])"
   ]
  },
  {
   "cell_type": "code",
   "execution_count": null,
   "metadata": {},
   "outputs": [],
   "source": [
    "tiny_train_annos.keys()"
   ]
  },
  {
   "cell_type": "code",
   "execution_count": null,
   "metadata": {},
   "outputs": [],
   "source": [
    "tiny_train_annos['categories']"
   ]
  },
  {
   "cell_type": "code",
   "execution_count": null,
   "metadata": {},
   "outputs": [],
   "source": [
    "tiny_train_annos['annotations'][0]"
   ]
  },
  {
   "cell_type": "code",
   "execution_count": null,
   "metadata": {},
   "outputs": [],
   "source": [
    "#处理annotations  别忘了将所有的size 和 area的大小进行调整  seg的范围也要调整。都是缩小10倍\n",
    "#对每张图片进行处理\n",
    "#找出来所有的corner\n",
    "#找出来所有corner所在的原始图片的bbox列表\n",
    "#判断是否在corner内部\n",
    "#如果是则将处理的结果根据公式进行处理\n",
    "#将处理后的bbox 与原来的anno进行整合。是一个old images对应多个anno操作\n",
    "#整合所有的新的bbox_n的annos\n",
    "#覆盖所有的annnotations"
   ]
  },
  {
   "cell_type": "code",
   "execution_count": null,
   "metadata": {},
   "outputs": [],
   "source": [
    "#处理annotations  别忘了将所有的size 和 area的大小进行调整  seg的范围也要调整。都是缩小10倍\n",
    "for item in tiny_train_annos['annotations']:\n",
    "    bbox=item['bbox']\n",
    "    for i in range(0,len(bbox)):\n",
    "        bbox[i]=(int)(bbox[i]/10)\n",
    "    item['area']=bbox[2]*bbox[3]"
   ]
  },
  {
   "cell_type": "code",
   "execution_count": null,
   "metadata": {},
   "outputs": [],
   "source": [
    "tiny_train_annos['annotations'][0]['bbox']"
   ]
  },
  {
   "cell_type": "code",
   "execution_count": null,
   "metadata": {},
   "outputs": [],
   "source": [
    "for len_all in range(0,len(tiny_train_annos['annotations'])):\n",
    "    seg=item['segmentation']\n",
    "    for seg_len in range(0,len(seg[0])):\n",
    "        tiny_train_annos['annotations'][len_all]['segmentation'][0][seg_len]=(int)(tiny_train_annos['annotations'][len_all]['segmentation'][0][seg_len]/10)\n",
    "        "
   ]
  },
  {
   "cell_type": "code",
   "execution_count": null,
   "metadata": {},
   "outputs": [],
   "source": [
    "# tiny_train_annos['annotations'][0]['segmentation'][0][0]\n",
    "# for i in tiny_train_annos['annotations']:\n",
    "#     print(i['segmentation'][0])\n",
    "#test for *0.1 to segmentation size pass"
   ]
  },
  {
   "cell_type": "code",
   "execution_count": null,
   "metadata": {},
   "outputs": [],
   "source": [
    "for len_all in range(0,len(tiny_train_annos['annotations'])):\n",
    "    tiny_train_annos['annotations'][len_all]['area']=tiny_train_annos['annotations'][len_all]['bbox'][2]*tiny_train_annos['annotations'][len_all]['bbox'][3]\n",
    "    "
   ]
  },
  {
   "cell_type": "code",
   "execution_count": null,
   "metadata": {},
   "outputs": [],
   "source": [
    "# for len_all in range(0,len(tiny_train_annos['annotations'])):\n",
    "#     print(tiny_train_annos['annotations'][len_all]['area'])\n",
    "# test bbox area value times 0.1 pass\n",
    "#用于检测corner 与bbox 是否为包含关系\n",
    "def judjeContented(corner,bbox):\n",
    "    c_tlx=corner[0]\n",
    "    c_tly=corner[1]\n",
    "    c_brx=corner[2]\n",
    "    c_bry=corner[3]\n",
    "    \n",
    "    b_tlx=bbox[0]\n",
    "    b_tly=bbox[1]\n",
    "    b_brx=b_tlx+bbox[3] #bbox[3] : width\n",
    "    b_bry=b_tly+bbox[2] #bbox[2] : height\n",
    "    if (c_tlx<=b_tlx and c_tly<=b_tly) and (c_brx>=b_brx and c_bry>=b_bry):\n",
    "        return True\n",
    "    return False"
   ]
  },
  {
   "cell_type": "code",
   "execution_count": null,
   "metadata": {},
   "outputs": [],
   "source": [
    "print(tiny_train_annos['annotations'][0]['id'])\n",
    "print(tiny_train_annos['annotations'][1]['id'])\n",
    "print(tiny_train_annos['annotations'][2]['id'])"
   ]
  },
  {
   "cell_type": "code",
   "execution_count": null,
   "metadata": {},
   "outputs": [],
   "source": [
    "#处理annotations  别忘了将所有的size 和 area的大小进行调整  seg的范围也要调整。都是缩小10倍 pass\n",
    "#对每张图片进行处理\n",
    "\n",
    "\n",
    "#如果是则将处理的结果根据公式进行处理\n",
    "#将处理后的bbox 与原来的anno进行整合。是一个old images对应多个anno操作\n",
    "#整合所有的新的bbox_n的annos\n",
    "#覆盖所有的annnotations\n",
    "new_annos=[]\n",
    "id=0\n",
    "for img in tiny_train_annos['old images']:\n",
    "    file_name=img['file_name']\n",
    "    file_id=img['id']\n",
    "    #找出来所有的corner  old_image->file_name   ==    images->file_name\n",
    "    split_imgs_infos=[]\n",
    "    for split_img in tiny_train_annos['images']:\n",
    "        if split_img['file_name']==file_name:\n",
    "            split_imgs_infos.append(split_img)\n",
    "    #找出来所有corner所在的原始图片的bbox列表\n",
    "    src_annos=[]\n",
    "    for src_anno in tiny_train_annos['annotations']:\n",
    "        if src_anno['image_id']==file_id:\n",
    "            src_annos.append(src_anno)\n",
    "#     print(\"split_imgs_infos : {0}, src_annos : {1}\".format(len(split_imgs_infos),len(src_annos)))\n",
    "    #判断每个bbox是否在corner内部\n",
    "    for img_info in split_imgs_infos:\n",
    "        corner=img_info['corner']\n",
    "        for src_anno in src_annos:\n",
    "            bbox=src_anno['bbox']\n",
    "            if judjeContented(corner,bbox):\n",
    "                bbox_tmp=[]\n",
    "                node_tmp={}\n",
    "                bbox_tmp.append(bbox[0]-corner[0])\n",
    "                bbox_tmp.append(bbox[1]-corner[1])\n",
    "                bbox_tmp.append(bbox[2])\n",
    "                bbox_tmp.append(bbox[3]) \n",
    "                node_tmp=src_anno\n",
    "                node_tmp['ignore']='false'\n",
    "                node_tmp['uncertain']='false'\n",
    "                node_tmp['logo']='false'\n",
    "                node_tmp['in_dense_image']='false'\n",
    "                node_tmp['size']=node_tmp['area']\n",
    "                node_tmp['image_id']=img_info['id']\n",
    "                node_tmp['id']=id\n",
    "                id=id+1\n",
    "                new_annos.append(node_tmp)\n",
    "print(len(new_annos))"
   ]
  },
  {
   "cell_type": "code",
   "execution_count": null,
   "metadata": {},
   "outputs": [],
   "source": [
    "tiny_train_annos['annotations']=new_annos"
   ]
  },
  {
   "cell_type": "code",
   "execution_count": null,
   "metadata": {},
   "outputs": [],
   "source": []
  },
  {
   "cell_type": "code",
   "execution_count": null,
   "metadata": {},
   "outputs": [],
   "source": [
    "tiny_train_annos['annotations'][0]"
   ]
  },
  {
   "cell_type": "code",
   "execution_count": null,
   "metadata": {},
   "outputs": [],
   "source": [
    "for src_anno in tiny_train_annos['annotations']:\n",
    "    print(src_anno['id'])"
   ]
  },
  {
   "cell_type": "code",
   "execution_count": null,
   "metadata": {},
   "outputs": [],
   "source": []
  },
  {
   "cell_type": "code",
   "execution_count": null,
   "metadata": {},
   "outputs": [],
   "source": []
  }
 ],
 "metadata": {
  "kernelspec": {
   "display_name": "Python 3",
   "language": "python",
   "name": "python3"
  },
  "language_info": {
   "codemirror_mode": {
    "name": "ipython",
    "version": 3
   },
   "file_extension": ".py",
   "mimetype": "text/x-python",
   "name": "python",
   "nbconvert_exporter": "python",
   "pygments_lexer": "ipython3",
   "version": "3.8.3"
  }
 },
 "nbformat": 4,
 "nbformat_minor": 4
}
